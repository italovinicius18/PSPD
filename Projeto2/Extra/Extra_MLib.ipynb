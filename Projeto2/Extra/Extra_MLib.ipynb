{
 "cells": [
  {
   "cell_type": "code",
   "execution_count": 1,
   "metadata": {},
   "outputs": [],
   "source": [
    "import findspark\n",
    "findspark.init()\n",
    "from pyspark.sql import SparkSession"
   ]
  },
  {
   "cell_type": "code",
   "execution_count": 3,
   "metadata": {
    "scrolled": true
   },
   "outputs": [
    {
     "name": "stderr",
     "output_type": "stream",
     "text": [
      "SLF4J: Class path contains multiple SLF4J bindings.\n",
      "SLF4J: Found binding in [jar:file:/mnt/d/Hadoop/spark-3.1.3-bin-hadoop3.2/jars/slf4j-log4j12-1.7.30.jar!/org/slf4j/impl/StaticLoggerBinder.class]\n",
      "SLF4J: Found binding in [jar:file:/mnt/d/Hadoop/hadoop-3.3.3/share/hadoop/common/lib/slf4j-reload4j-1.7.36.jar!/org/slf4j/impl/StaticLoggerBinder.class]\n",
      "SLF4J: See http://www.slf4j.org/codes.html#multiple_bindings for an explanation.\n",
      "SLF4J: Actual binding is of type [org.slf4j.impl.Log4jLoggerFactory]\n",
      "2022-08-25 09:58:51,990 WARN util.Utils: Your hostname, DESKTOP-RUMNQVP resolves to a loopback address: 127.0.1.1; using 172.30.39.228 instead (on interface eth0)\n",
      "2022-08-25 09:58:51,990 WARN util.Utils: Set SPARK_LOCAL_IP if you need to bind to another address\n",
      "2022-08-25 09:58:54,446 WARN util.NativeCodeLoader: Unable to load native-hadoop library for your platform... using builtin-java classes where applicable\n",
      "Setting default log level to \"WARN\".\n",
      "To adjust logging level use sc.setLogLevel(newLevel). For SparkR, use setLogLevel(newLevel).\n"
     ]
    }
   ],
   "source": [
    "spark = SparkSession \\\n",
    "    .builder \\\n",
    "    .appName(\"SongClassification\") \\\n",
    "    .getOrCreate()"
   ]
  },
  {
   "cell_type": "markdown",
   "metadata": {
    "dc": {
     "key": "3"
    },
    "run_control": {
     "frozen": true
    },
    "tags": [
     "context"
    ]
   },
   "source": [
    "## 1. Preparing our dataset\n",
    "<p><em>These recommendations are so on point! How does this playlist know me so well?</em></p>\n",
    "<p><img src=\"https://assets.datacamp.com/production/project_449/img/iphone_music.jpg\" alt=\"Project Image Record\" width=\"600px\"></p>\n",
    "<p>Over the past few years, streaming services with huge catalogs have become the primary means through which most people listen to their favorite music. But at the same time, the sheer amount of music on offer can mean users might be a bit overwhelmed when trying to look for newer music that suits their tastes.</p>\n",
    "<p>For this reason, streaming services have looked into means of categorizing music to allow for personalized recommendations. One method involves direct analysis of the raw audio information in a given song, scoring the raw data on a variety of metrics. Today, we'll be examining data compiled by a research group known as The Echo Nest. Our goal is to look through this dataset and classify songs as being either 'Hip-Hop' or 'Rock' - all without listening to a single one ourselves. In doing so, we will learn how to clean our data, do some exploratory data visualization, and use feature reduction towards the goal of feeding our data through some simple machine learning algorithms, such as decision trees and logistic regression.</p>\n",
    "<p>To begin with, let's load the metadata about our tracks alongside the track metrics compiled by The Echo Nest. A song is about more than its title, artist, and number of listens. We have another dataset that has musical features of each track such as <code>danceability</code> and <code>acousticness</code> on a scale from -1 to 1. These exist in two different files, which are in different formats - CSV and JSON. While CSV is a popular file format for denoting tabular data, JSON is another common file format in which databases often return the results of a given query.</p>\n",
    "<p>Let's start by creating two pandas <code>DataFrames</code> out of these files that we can merge so we have features and labels (often also referred to as <code>X</code> and <code>y</code>) for the classification later on.</p>"
   ]
  },
  {
   "cell_type": "code",
   "execution_count": 9,
   "metadata": {},
   "outputs": [
    {
     "name": "stdout",
     "output_type": "stream",
     "text": [
      "<class 'pandas.core.frame.DataFrame'>\n",
      "Int64Index: 4802 entries, 0 to 4801\n",
      "Data columns (total 10 columns):\n",
      " #   Column            Non-Null Count  Dtype  \n",
      "---  ------            --------------  -----  \n",
      " 0   track_id          4802 non-null   int64  \n",
      " 1   acousticness      4802 non-null   float64\n",
      " 2   danceability      4802 non-null   float64\n",
      " 3   energy            4802 non-null   float64\n",
      " 4   instrumentalness  4802 non-null   float64\n",
      " 5   liveness          4802 non-null   float64\n",
      " 6   speechiness       4802 non-null   float64\n",
      " 7   tempo             4802 non-null   float64\n",
      " 8   valence           4802 non-null   float64\n",
      " 9   genre_top         4802 non-null   object \n",
      "dtypes: float64(8), int64(1), object(1)\n",
      "memory usage: 412.7+ KB\n"
     ]
    }
   ],
   "source": [
    "import pandas as pd\n",
    "\n",
    "# Read in track metadata with genre labels\n",
    "tracks = pd.read_csv(\"datasets/fma-rock-vs-hiphop.csv\")\n",
    "\n",
    "# Read in track metrics with the features\n",
    "echonest_metrics = pd.read_json(\"datasets/echonest-metrics.json\",precise_float=True)\n",
    "\n",
    "# Merge the relevant columns of tracks and echonest_metrics\n",
    "echo_tracks = echonest_metrics.merge(right=tracks[['track_id','genre_top']], on=\"track_id\")\n",
    "\n",
    "# Inspect the resultant dataframe\n",
    "echo_tracks.info()"
   ]
  },
  {
   "cell_type": "code",
   "execution_count": 18,
   "metadata": {
    "scrolled": true
   },
   "outputs": [
    {
     "name": "stdout",
     "output_type": "stream",
     "text": [
      "root\n",
      " |-- track_id: long (nullable = true)\n",
      " |-- acousticness: double (nullable = true)\n",
      " |-- danceability: double (nullable = true)\n",
      " |-- energy: double (nullable = true)\n",
      " |-- instrumentalness: double (nullable = true)\n",
      " |-- liveness: double (nullable = true)\n",
      " |-- speechiness: double (nullable = true)\n",
      " |-- tempo: double (nullable = true)\n",
      " |-- valence: double (nullable = true)\n",
      " |-- genre_top: string (nullable = true)\n",
      "\n",
      "+--------+------------+------------+------------+----------------+------------+------------+-------+------------+---------+\n",
      "|track_id|acousticness|danceability|      energy|instrumentalness|    liveness| speechiness|  tempo|     valence|genre_top|\n",
      "+--------+------------+------------+------------+----------------+------------+------------+-------+------------+---------+\n",
      "|       2|0.4166752327|0.6758939853|0.6344762684|    0.0106280683|0.1776465712|0.1593100648|165.922| 0.576660988|  Hip-Hop|\n",
      "|       3|0.3744077685|0.5286430621|0.8174611317|    0.0018511032|0.1058799438|0.4618181276|126.957|0.2692402421|  Hip-Hop|\n",
      "|       5|0.0435668989|0.7455658702|0.7014699916|      6.96799E-4|0.3731433124|0.1245953419| 100.26|0.6216612236|  Hip-Hop|\n",
      "|     134|0.4522173071|0.5132380502|0.5604099311|    0.0194426943| 0.096566694|0.5255193792| 114.29|0.8940722715|  Hip-Hop|\n",
      "|     153|0.9883055496|0.2556609004|0.9797737929|    0.9730057241|    0.121342|0.0517397623| 90.241|0.0340178672|     Rock|\n",
      "|     154|0.9701348869|0.3529461312|0.0238515619|    0.9571128852|0.1132607212|0.0321767642| 53.758| 0.035631561|     Rock|\n",
      "|     155|0.9816573443|0.1422492483|0.9121220855|    0.9672939775|0.3635095155|0.0875269884| 91.912|0.0343252564|     Rock|\n",
      "|     169| 0.989141175|0.2259775281|0.7228348527|    0.2630762793|0.0923705318|0.0534063523| 94.322|0.0283472078|     Rock|\n",
      "|     170|0.8866597102|0.2985183025|0.7443325625|    0.9209504901|0.1395870184|0.0887810414|  97.88|0.0735475474|     Rock|\n",
      "|     171|0.6982777611|0.2858156458|0.2134937338|    0.9556913003|0.0870359278|0.0640938189|125.645|0.1505991359|     Rock|\n",
      "|     172|0.8155489042|0.1441250712|0.8927211866|    0.9004301244|0.1047034668|0.1022936576| 138.68|0.0349164186|     Rock|\n",
      "|     173|0.8421128878|0.2852932287|0.5646886968|    0.9516243456|0.1104813781|0.0406105474|166.552| 0.254299214|     Rock|\n",
      "|     174|0.3673926458|0.3396980706|0.8466394386|    0.9091861794|0.1989439803|0.4626074726| 70.887|0.0482427328|     Rock|\n",
      "|     175|0.9939276168|0.3100899771|0.9524931303|    0.2743114791|0.3542305191|0.8257439071| 69.413|0.0334023117|     Rock|\n",
      "|     176|0.8335160135|0.2065092789| 0.779140487|    0.9408410856|0.3723113985|0.0772271448|123.583|0.0281438157|     Rock|\n",
      "|     177|0.7542752993|0.2091129065|0.5799592774|    0.7368654346|0.1121648933|0.0733502023| 95.932|0.0833302608|     Rock|\n",
      "|     178|0.9955533218|0.1861459299|0.4130542364|    0.9551374475|0.1117162764| 0.040892505| 61.316| 0.252819344|     Rock|\n",
      "|     179|0.9588732916|0.2746088553|0.9894824701|    0.9193623081|0.5465156876|0.1853163118| 84.173|0.0332076001|     Rock|\n",
      "|     226|0.1325832964|0.5411565335|0.7572551846|    0.8826174388|0.0994326594|0.0292159697|144.808|0.7335055159|     Rock|\n",
      "|     228|0.0167591241|0.3619554496|0.8723790415|     0.922775365|  0.15177309|  0.03860093|146.546|0.5326324643|     Rock|\n",
      "+--------+------------+------------+------------+----------------+------------+------------+-------+------------+---------+\n",
      "only showing top 20 rows\n",
      "\n"
     ]
    }
   ],
   "source": [
    "# Convert the current pandas dataframe to pyspark dataframe\n",
    "spark_tracks = spark.createDataFrame(echo_tracks)\n",
    "\n",
    "spark_tracks.printSchema()\n",
    "spark_tracks.show()"
   ]
  },
  {
   "cell_type": "code",
   "execution_count": 36,
   "metadata": {},
   "outputs": [
    {
     "name": "stdout",
     "output_type": "stream",
     "text": [
      "root\n",
      " |-- acousticness: double (nullable = true)\n",
      " |-- danceability: double (nullable = true)\n",
      " |-- energy: double (nullable = true)\n",
      " |-- instrumentalness: double (nullable = true)\n",
      " |-- liveness: double (nullable = true)\n",
      " |-- speechiness: double (nullable = true)\n",
      " |-- tempo: double (nullable = true)\n",
      " |-- valence: double (nullable = true)\n",
      " |-- genre_top: string (nullable = true)\n",
      "\n"
     ]
    }
   ],
   "source": [
    "# Filter interested collumns \n",
    "spark_tracks = spark_tracks.drop('track_id')\n",
    "\n",
    "spark_tracks.printSchema()"
   ]
  },
  {
   "cell_type": "markdown",
   "metadata": {
    "dc": {
     "key": "10"
    },
    "run_control": {
     "frozen": true
    },
    "tags": [
     "context"
    ]
   },
   "source": [
    "## 2. Pairwise relationships between continuous variables\n",
    "<p>We typically want to avoid using variables that have strong correlations with each other -- hence avoiding feature redundancy -- for a few reasons:</p>\n",
    "<ul>\n",
    "<li>To keep the model simple and improve interpretability (with many features, we run the risk of overfitting).</li>\n",
    "<li>When our datasets are very large, using fewer features can drastically speed up our computation time.</li>\n",
    "</ul>\n",
    "<p>To get a sense of whether there are any strongly correlated features in our data, we will use built-in functions in the <code>pandas</code> package.</p>"
   ]
  },
  {
   "cell_type": "code",
   "execution_count": 20,
   "metadata": {},
   "outputs": [
    {
     "data": {
      "text/html": [
       "<div>\n",
       "<style scoped>\n",
       "    .dataframe tbody tr th:only-of-type {\n",
       "        vertical-align: middle;\n",
       "    }\n",
       "\n",
       "    .dataframe tbody tr th {\n",
       "        vertical-align: top;\n",
       "    }\n",
       "\n",
       "    .dataframe thead th {\n",
       "        text-align: right;\n",
       "    }\n",
       "</style>\n",
       "<table border=\"1\" class=\"dataframe\">\n",
       "  <thead>\n",
       "    <tr style=\"text-align: right;\">\n",
       "      <th></th>\n",
       "      <th>track_id</th>\n",
       "      <th>acousticness</th>\n",
       "      <th>danceability</th>\n",
       "      <th>energy</th>\n",
       "      <th>instrumentalness</th>\n",
       "      <th>liveness</th>\n",
       "      <th>speechiness</th>\n",
       "      <th>tempo</th>\n",
       "      <th>valence</th>\n",
       "    </tr>\n",
       "  </thead>\n",
       "  <tbody>\n",
       "    <tr>\n",
       "      <th>track_id</th>\n",
       "      <td>1.000000</td>\n",
       "      <td>-0.372282</td>\n",
       "      <td>0.049454</td>\n",
       "      <td>0.140703</td>\n",
       "      <td>-0.275623</td>\n",
       "      <td>0.048231</td>\n",
       "      <td>-0.026995</td>\n",
       "      <td>-0.025392</td>\n",
       "      <td>0.010070</td>\n",
       "    </tr>\n",
       "    <tr>\n",
       "      <th>acousticness</th>\n",
       "      <td>-0.372282</td>\n",
       "      <td>1.000000</td>\n",
       "      <td>-0.028954</td>\n",
       "      <td>-0.281619</td>\n",
       "      <td>0.194780</td>\n",
       "      <td>-0.019991</td>\n",
       "      <td>0.072204</td>\n",
       "      <td>-0.026310</td>\n",
       "      <td>-0.013841</td>\n",
       "    </tr>\n",
       "    <tr>\n",
       "      <th>danceability</th>\n",
       "      <td>0.049454</td>\n",
       "      <td>-0.028954</td>\n",
       "      <td>1.000000</td>\n",
       "      <td>-0.242032</td>\n",
       "      <td>-0.255217</td>\n",
       "      <td>-0.106584</td>\n",
       "      <td>0.276206</td>\n",
       "      <td>-0.242089</td>\n",
       "      <td>0.473165</td>\n",
       "    </tr>\n",
       "    <tr>\n",
       "      <th>energy</th>\n",
       "      <td>0.140703</td>\n",
       "      <td>-0.281619</td>\n",
       "      <td>-0.242032</td>\n",
       "      <td>1.000000</td>\n",
       "      <td>0.028238</td>\n",
       "      <td>0.113331</td>\n",
       "      <td>-0.109983</td>\n",
       "      <td>0.195227</td>\n",
       "      <td>0.038603</td>\n",
       "    </tr>\n",
       "    <tr>\n",
       "      <th>instrumentalness</th>\n",
       "      <td>-0.275623</td>\n",
       "      <td>0.194780</td>\n",
       "      <td>-0.255217</td>\n",
       "      <td>0.028238</td>\n",
       "      <td>1.000000</td>\n",
       "      <td>-0.091022</td>\n",
       "      <td>-0.366762</td>\n",
       "      <td>0.022215</td>\n",
       "      <td>-0.219967</td>\n",
       "    </tr>\n",
       "    <tr>\n",
       "      <th>liveness</th>\n",
       "      <td>0.048231</td>\n",
       "      <td>-0.019991</td>\n",
       "      <td>-0.106584</td>\n",
       "      <td>0.113331</td>\n",
       "      <td>-0.091022</td>\n",
       "      <td>1.000000</td>\n",
       "      <td>0.041173</td>\n",
       "      <td>0.002732</td>\n",
       "      <td>-0.045093</td>\n",
       "    </tr>\n",
       "    <tr>\n",
       "      <th>speechiness</th>\n",
       "      <td>-0.026995</td>\n",
       "      <td>0.072204</td>\n",
       "      <td>0.276206</td>\n",
       "      <td>-0.109983</td>\n",
       "      <td>-0.366762</td>\n",
       "      <td>0.041173</td>\n",
       "      <td>1.000000</td>\n",
       "      <td>0.008241</td>\n",
       "      <td>0.149894</td>\n",
       "    </tr>\n",
       "    <tr>\n",
       "      <th>tempo</th>\n",
       "      <td>-0.025392</td>\n",
       "      <td>-0.026310</td>\n",
       "      <td>-0.242089</td>\n",
       "      <td>0.195227</td>\n",
       "      <td>0.022215</td>\n",
       "      <td>0.002732</td>\n",
       "      <td>0.008241</td>\n",
       "      <td>1.000000</td>\n",
       "      <td>0.052221</td>\n",
       "    </tr>\n",
       "    <tr>\n",
       "      <th>valence</th>\n",
       "      <td>0.010070</td>\n",
       "      <td>-0.013841</td>\n",
       "      <td>0.473165</td>\n",
       "      <td>0.038603</td>\n",
       "      <td>-0.219967</td>\n",
       "      <td>-0.045093</td>\n",
       "      <td>0.149894</td>\n",
       "      <td>0.052221</td>\n",
       "      <td>1.000000</td>\n",
       "    </tr>\n",
       "  </tbody>\n",
       "</table>\n",
       "</div>"
      ],
      "text/plain": [
       "                  track_id  acousticness  danceability    energy  \\\n",
       "track_id          1.000000     -0.372282      0.049454  0.140703   \n",
       "acousticness     -0.372282      1.000000     -0.028954 -0.281619   \n",
       "danceability      0.049454     -0.028954      1.000000 -0.242032   \n",
       "energy            0.140703     -0.281619     -0.242032  1.000000   \n",
       "instrumentalness -0.275623      0.194780     -0.255217  0.028238   \n",
       "liveness          0.048231     -0.019991     -0.106584  0.113331   \n",
       "speechiness      -0.026995      0.072204      0.276206 -0.109983   \n",
       "tempo            -0.025392     -0.026310     -0.242089  0.195227   \n",
       "valence           0.010070     -0.013841      0.473165  0.038603   \n",
       "\n",
       "                  instrumentalness  liveness  speechiness     tempo   valence  \n",
       "track_id                 -0.275623  0.048231    -0.026995 -0.025392  0.010070  \n",
       "acousticness              0.194780 -0.019991     0.072204 -0.026310 -0.013841  \n",
       "danceability             -0.255217 -0.106584     0.276206 -0.242089  0.473165  \n",
       "energy                    0.028238  0.113331    -0.109983  0.195227  0.038603  \n",
       "instrumentalness          1.000000 -0.091022    -0.366762  0.022215 -0.219967  \n",
       "liveness                 -0.091022  1.000000     0.041173  0.002732 -0.045093  \n",
       "speechiness              -0.366762  0.041173     1.000000  0.008241  0.149894  \n",
       "tempo                     0.022215  0.002732     0.008241  1.000000  0.052221  \n",
       "valence                  -0.219967 -0.045093     0.149894  0.052221  1.000000  "
      ]
     },
     "execution_count": 20,
     "metadata": {},
     "output_type": "execute_result"
    }
   ],
   "source": [
    "# Create a correlation matrix\n",
    "corr_metrics = echo_tracks.corr()\n",
    "corr_metrics"
   ]
  },
  {
   "cell_type": "markdown",
   "metadata": {
    "dc": {
     "key": "17"
    },
    "run_control": {
     "frozen": true
    },
    "tags": [
     "context"
    ]
   },
   "source": [
    "## 3. Splitting our data\n",
    "<p>As mentioned earlier, it can be particularly useful to simplify our models and use as few features as necessary to achieve the best result. Since we didn't find any particularly strong correlations between our features, we can now split our data into an array containing our features, and another containing the labels - the genre of the track. </p>\n",
    "<p>Once we have split the data into these arrays, we will perform some preprocessing steps to optimize our model development.</p>"
   ]
  },
  {
   "cell_type": "code",
   "execution_count": 119,
   "metadata": {
    "scrolled": true
   },
   "outputs": [
    {
     "name": "stdout",
     "output_type": "stream",
     "text": [
      "+--------------------+---------+\n",
      "|            features|genre_top|\n",
      "+--------------------+---------+\n",
      "|[0.4166752327,0.6...|  Hip-Hop|\n",
      "|[0.3744077685,0.5...|  Hip-Hop|\n",
      "|[0.0435668989,0.7...|  Hip-Hop|\n",
      "|[0.4522173071,0.5...|  Hip-Hop|\n",
      "|[0.9883055496,0.2...|     Rock|\n",
      "+--------------------+---------+\n",
      "only showing top 5 rows\n",
      "\n",
      "+--------------------+---------+\n",
      "|            features|genre_top|\n",
      "+--------------------+---------+\n",
      "|[7.8526E-6,0.2510...|     Rock|\n",
      "|[2.58553E-5,0.376...|     Rock|\n",
      "|[3.66041E-5,0.267...|     Rock|\n",
      "|[3.87096E-5,0.397...|     Rock|\n",
      "|[6.41779E-5,0.287...|     Rock|\n",
      "+--------------------+---------+\n",
      "only showing top 5 rows\n",
      "\n",
      "+--------------------+---------+\n",
      "|            features|genre_top|\n",
      "+--------------------+---------+\n",
      "|[1.26439E-5,0.433...|     Rock|\n",
      "|[2.73313E-5,0.446...|     Rock|\n",
      "|[5.82508E-5,0.245...|     Rock|\n",
      "|[1.543012E-4,0.26...|     Rock|\n",
      "|[2.430156E-4,0.22...|     Rock|\n",
      "+--------------------+---------+\n",
      "only showing top 5 rows\n",
      "\n"
     ]
    }
   ],
   "source": [
    "from pyspark.ml.feature import VectorAssembler\n",
    "\n",
    "assembler = VectorAssembler(\n",
    "    inputCols=['acousticness',\n",
    "               'danceability',\n",
    "               'energy',\n",
    "               'instrumentalness',\n",
    "               'liveness',\n",
    "               'speechiness',\n",
    "               'tempo',\n",
    "               'valence'],\n",
    "    outputCol='features'\n",
    ")\n",
    "\n",
    "\n",
    "tracks_assembled = assembler.transform(spark_tracks)\n",
    "\n",
    "tracks_assembled = tracks_assembled.select('features','genre_top')\n",
    "\n",
    "tracks_assembled.show(5)\n",
    "\n",
    "tracks_train, tracks_test = tracks_assembled.randomSplit([.75,.25],seed=10)\n",
    "\n",
    "tracks_train.show(5)\n",
    "tracks_test.show(5)"
   ]
  },
  {
   "cell_type": "markdown",
   "metadata": {
    "dc": {
     "key": "24"
    },
    "run_control": {
     "frozen": true
    },
    "tags": [
     "context"
    ]
   },
   "source": [
    "## 4. Normalizing the feature data\n",
    "<p>As mentioned earlier, it can be particularly useful to simplify our models and use as few features as necessary to achieve the best result. Since we didn't find any particular strong correlations between our features, we can instead use a common approach to reduce the number of features called <strong>principal component analysis (PCA)</strong>. </p>\n",
    "<p>It is possible that the variance between genres can be explained by just a few features in the dataset. PCA rotates the data along the axis of highest variance, thus allowing us to determine the relative contribution of each feature of our data towards the variance between classes. </p>\n",
    "<p>However, since PCA uses the absolute variance of a feature to rotate the data, a feature with a broader range of values will overpower and bias the algorithm relative to the other features. To avoid this, we must first normalize our train and test features. There are a few methods to do this, but a common way is through <em>standardization</em>, such that all features have a mean = 0 and standard deviation = 1 (the resultant is a z-score). </p>"
   ]
  },
  {
   "cell_type": "code",
   "execution_count": 120,
   "metadata": {
    "scrolled": true
   },
   "outputs": [
    {
     "name": "stdout",
     "output_type": "stream",
     "text": [
      "+--------------------+---------+--------------------+\n",
      "|            features|genre_top|     scaler_features|\n",
      "+--------------------+---------+--------------------+\n",
      "|[7.8526E-6,0.2510...|     Rock|[2.13851778600045...|\n",
      "|[2.58553E-5,0.376...|     Rock|[7.04123715869616...|\n",
      "|[3.66041E-5,0.267...|     Rock|[9.96848418237770...|\n",
      "|[3.87096E-5,0.397...|     Rock|[1.05418801529382...|\n",
      "|[6.41779E-5,0.287...|     Rock|[1.74777246540201...|\n",
      "+--------------------+---------+--------------------+\n",
      "only showing top 5 rows\n",
      "\n",
      "+--------------------+---------+--------------------+\n",
      "|            features|genre_top|     scaler_features|\n",
      "+--------------------+---------+--------------------+\n",
      "|[1.26439E-5,0.433...|     Rock|[3.44334424705334...|\n",
      "|[2.73313E-5,0.446...|     Rock|[7.44319985285308...|\n",
      "|[5.82508E-5,0.245...|     Rock|[1.58635829978294...|\n",
      "|[1.543012E-4,0.26...|     Rock|[4.20212236203567...|\n",
      "|[2.430156E-4,0.22...|     Rock|[6.61810333998384...|\n",
      "+--------------------+---------+--------------------+\n",
      "only showing top 5 rows\n",
      "\n"
     ]
    }
   ],
   "source": [
    "from pyspark.ml.feature import StandardScaler\n",
    "\n",
    "# Scale the features and set the values to a new variable\n",
    "scaler = StandardScaler(inputCol='features',outputCol=\"scaler_features\")\n",
    "\n",
    "scaler_model = scaler.fit(tracks_train)\n",
    "\n",
    "tracks_train_scaler = scaler_model.transform(tracks_train)\n",
    "\n",
    "tracks_test_scaler = scaler_model.transform(tracks_test)\n",
    "\n",
    "tracks_train_scaler.show(5)\n",
    "tracks_test_scaler.show(5)"
   ]
  },
  {
   "cell_type": "markdown",
   "id": "be6d9090-b495-4bc8-9a53-7dc7e91ec041",
   "metadata": {
    "dc": {
     "key": "45"
    },
    "run_control": {
     "frozen": true
    },
    "tags": [
     "context"
    ]
   },
   "source": [
    "## 5. Projecting on to our features\n",
    "\n",
    "<p>We can use 6 components to perform PCA and reduce the dimensionality of our train and test features.</p>"
   ]
  },
  {
   "cell_type": "code",
   "execution_count": 121,
   "metadata": {
    "scrolled": true
   },
   "outputs": [
    {
     "name": "stdout",
     "output_type": "stream",
     "text": [
      "+--------------------+---------+--------------------+--------------------+\n",
      "|            features|genre_top|     scaler_features|        pca_features|\n",
      "+--------------------+---------+--------------------+--------------------+\n",
      "|[7.8526E-6,0.2510...|     Rock|[2.13851778600045...|[0.29384819551725...|\n",
      "|[2.58553E-5,0.376...|     Rock|[7.04123715869616...|[1.07031586272625...|\n",
      "|[3.66041E-5,0.267...|     Rock|[9.96848418237770...|[1.13362984781904...|\n",
      "|[3.87096E-5,0.397...|     Rock|[1.05418801529382...|[-0.0674061346715...|\n",
      "|[6.41779E-5,0.287...|     Rock|[1.74777246540201...|[1.23401135254151...|\n",
      "+--------------------+---------+--------------------+--------------------+\n",
      "only showing top 5 rows\n",
      "\n",
      "+--------------------+---------+--------------------+--------------------+\n",
      "|            features|genre_top|     scaler_features|        pca_features|\n",
      "+--------------------+---------+--------------------+--------------------+\n",
      "|[1.26439E-5,0.433...|     Rock|[3.44334424705334...|[1.11301714124127...|\n",
      "|[2.73313E-5,0.446...|     Rock|[7.44319985285308...|[0.12050774363365...|\n",
      "|[5.82508E-5,0.245...|     Rock|[1.58635829978294...|[1.09235481523655...|\n",
      "|[1.543012E-4,0.26...|     Rock|[4.20212236203567...|[0.82784742252720...|\n",
      "|[2.430156E-4,0.22...|     Rock|[6.61810333998384...|[1.71087386320107...|\n",
      "+--------------------+---------+--------------------+--------------------+\n",
      "only showing top 5 rows\n",
      "\n"
     ]
    }
   ],
   "source": [
    "from pyspark.ml.feature import PCA\n",
    "\n",
    "# Get our explained variance ratios from PCA using all features\n",
    "pca = PCA(k=6,inputCol='scaler_features',outputCol='pca_features')\n",
    "\n",
    "pca_model = pca.fit(tracks_train_scaler)\n",
    "\n",
    "tracks_train_pca = pca_model.transform(tracks_train_scaler)\n",
    "\n",
    "tracks_test_pca = pca_model.transform(tracks_test_scaler)\n",
    "\n",
    "tracks_train_pca.show(5)\n",
    "tracks_test_pca.show(5)"
   ]
  },
  {
   "cell_type": "markdown",
   "metadata": {},
   "source": [
    "## 6. Encode labels\n",
    "\n",
    "Let's use StringIndexer function to replace string to number, because to make the prediction model we can only work with numbers"
   ]
  },
  {
   "cell_type": "code",
   "execution_count": 126,
   "metadata": {},
   "outputs": [
    {
     "name": "stdout",
     "output_type": "stream",
     "text": [
      "+---------+-----------+\n",
      "|genre_top|genre_index|\n",
      "+---------+-----------+\n",
      "|  Hip-Hop|        1.0|\n",
      "|     Rock|        0.0|\n",
      "+---------+-----------+\n",
      "\n",
      "+---------+-----------+\n",
      "|genre_top|genre_index|\n",
      "+---------+-----------+\n",
      "|  Hip-Hop|        1.0|\n",
      "|     Rock|        0.0|\n",
      "+---------+-----------+\n",
      "\n"
     ]
    }
   ],
   "source": [
    "from pyspark.ml.feature import StringIndexer\n",
    "\n",
    "# Get our explained variance ratios from PCA using all features\n",
    "label_indexer = StringIndexer(inputCol='genre_top',outputCol='genre_index')\n",
    "\n",
    "label_indexer_model = label_indexer.fit(tracks_train_pca)\n",
    "\n",
    "tracks_train_indexed = label_indexer_model.transform(tracks_train_pca)\n",
    "\n",
    "tracks_test_indexed = label_indexer_model.transform(tracks_test_pca)\n",
    "\n",
    "tracks_train_indexed.select('genre_top','genre_index').distinct().show()\n",
    "tracks_test_indexed.select('genre_top','genre_index').distinct().show()"
   ]
  },
  {
   "cell_type": "markdown",
   "id": "3c8324b1-7f78-41f4-9592-0af368833556",
   "metadata": {
    "dc": {
     "key": "52"
    },
    "run_control": {
     "frozen": true
    },
    "tags": [
     "context"
    ]
   },
   "source": [
    "## 7. Train a decision tree to classify genre\n",
    "<p>Now we can use the lower dimensional PCA projection of the data to classify songs into genres. </p>\n",
    "<p>Here, we will be using a simple algorithm known as a decision tree. Decision trees are rule-based classifiers that take in features and follow a 'tree structure' of binary decisions to ultimately classify a data point into one of two or more categories. In addition to being easy to both use and interpret, decision trees allow us to visualize the 'logic flowchart' that the model generates from the training data.</p>\n",
    "<p>Here is an example of a decision tree that demonstrates the process by which an input image (in this case, of a shape) might be classified based on the number of sides it has and whether it is rotated.</p>\n",
    "<p><img src=\"https://assets.datacamp.com/production/project_449/img/simple_decision_tree.png\" alt=\"Decision Tree Flow Chart Example\" width=\"350px\"></p>"
   ]
  },
  {
   "cell_type": "code",
   "execution_count": 138,
   "metadata": {},
   "outputs": [],
   "source": [
    "from pyspark.ml.classification import DecisionTreeClassifier\n",
    "\n",
    "tree = DecisionTreeClassifier(\n",
    "            featuresCol='pca_features',\n",
    "            labelCol='genre_index',\n",
    "            predictionCol='pred_tree')\n",
    "\n",
    "tree_model = tree.fit(tracks_train_indexed)\n",
    "\n",
    "pred_tree = tree_model.transform(tracks_test_indexed)"
   ]
  },
  {
   "cell_type": "markdown",
   "id": "c40e084f-878f-496e-826e-3d16981cfeea",
   "metadata": {
    "dc": {
     "key": "59"
    },
    "run_control": {
     "frozen": true
    },
    "tags": [
     "context"
    ]
   },
   "source": [
    "## 8. Compare our decision tree to a logistic regression\n",
    "<p>Although our tree's performance is decent, it's a bad idea to immediately assume that it's therefore the perfect tool for this job -- there's always the possibility of other models that will perform even better! It's always a worthwhile idea to at least test a few other algorithms and find the one that's best for our data.</p>\n",
    "<p>Sometimes simplest is best, and so we will start by applying <strong>logistic regression</strong>. Logistic regression makes use of what's called the logistic function to calculate the odds that a given data point belongs to a given class. Once we have both models, we can compare them on a few performance metrics, such as false positive and false negative rate (or how many points are inaccurately classified). </p>"
   ]
  },
  {
   "cell_type": "code",
   "execution_count": 159,
   "metadata": {},
   "outputs": [],
   "source": [
    "from pyspark.ml.classification import LogisticRegression\n",
    "\n",
    "logreg = LogisticRegression(\n",
    "            featuresCol='pca_features',\n",
    "            labelCol='genre_index',\n",
    "            predictionCol='pred_logreg')\n",
    "\n",
    "logreg_model = logreg.fit(tracks_train_indexed)\n",
    "\n",
    "pred_logreg = logreg_model.transform(tracks_test_indexed)"
   ]
  },
  {
   "cell_type": "code",
   "execution_count": 165,
   "metadata": {},
   "outputs": [],
   "source": [
    "def evaluator(data,pred_col):\n",
    "    TN = data.filter(f'{pred_col} = 0 AND genre_index = {pred_col}').count()\n",
    "    TP = data.filter(f'{pred_col} = 1 AND genre_index = {pred_col}').count()\n",
    "    FN = data.filter(f'{pred_col} = 0 AND genre_index != {pred_col}').count()\n",
    "    FP = data.filter(f'{pred_col} = 1 AND genre_index != {pred_col}').count()\n",
    "    print(f'Precision = {TP/(TP/FP)}')\n",
    "    print(f'Recall = {TP/(TP/FN)}')\n",
    "    print(f'Accuracy = {(TP+TN)/(TP+TN+FP+FN)}')"
   ]
  },
  {
   "cell_type": "code",
   "execution_count": 166,
   "metadata": {},
   "outputs": [
    {
     "name": "stdout",
     "output_type": "stream",
     "text": [
      "Decision Tree Classifier results:\n",
      "Precision = 44.0\n",
      "Recall = 87.0\n",
      "Accuracy = 0.889451476793249\n",
      "\n",
      "Logistic Regression results:\n",
      "Precision = 43.0\n",
      "Recall = 101.99999999999999\n",
      "Accuracy = 0.8776371308016878\n"
     ]
    }
   ],
   "source": [
    "print('Decision Tree Classifier results:')\n",
    "evaluator(pred_tree,'pred_tree')\n",
    "\n",
    "print('\\nLogistic Regression results:')\n",
    "evaluator(pred_logreg,'pred_logreg')"
   ]
  }
 ],
 "metadata": {
  "kernelspec": {
   "display_name": "Python 3 (ipykernel)",
   "language": "python",
   "name": "python3"
  },
  "language_info": {
   "codemirror_mode": {
    "name": "ipython",
    "version": 3
   },
   "file_extension": ".py",
   "mimetype": "text/x-python",
   "name": "python",
   "nbconvert_exporter": "python",
   "pygments_lexer": "ipython3",
   "version": "3.8.10"
  }
 },
 "nbformat": 4,
 "nbformat_minor": 2
}
